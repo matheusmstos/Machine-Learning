{
 "cells": [
  {
   "cell_type": "markdown",
   "metadata": {},
   "source": [
    "# Laboratory class 0"
   ]
  },
  {
   "cell_type": "markdown",
   "metadata": {},
   "source": [
    "Nomes:\n",
    "\n",
    "1 - Matheus Marques dos Santos\n",
    "\n",
    "2 - Nathã Carvalhais Paulino"
   ]
  },
  {
   "cell_type": "markdown",
   "metadata": {},
   "source": [
    "# Getting started with Python, IPython Notebook, Anaconda, and Scikit-learn"
   ]
  },
  {
   "cell_type": "markdown",
   "metadata": {},
   "source": [
    "Welcome to the Machine Learning course. In this course we will introduce the basic concepts of machine learning. The goal of this course is for your effort to be spent on learning the fundamental concepts and algorithms behind machine learning in a hands-on fashion. These concepts transcend any single package. What you learn here you can use whether you write code from scratch, use any existing ML packages out there, or any that may be developed in the future."
   ]
  },
  {
   "cell_type": "markdown",
   "metadata": {},
   "source": [
    "The learning approach in this course is to start from use cases and then dig into algorithms and methods, what we call a case-studies approach. The lab classes are focused on understanding how ML can be used in various cases studies, and the pratical assignments will dig into the details of algorithms and methods for each of the main ML areas. In the lab classes, you will not be implementing algorithms from scratch, but rather building intelligent applications that use ML. In the practical assignments, we will be implementing and comparing a wide range of algorithms. To make it easy to implement the use cases we will be covering, we are recommending a particular set of software tools, but you can successfully complete the course with other tools out there."
   ]
  },
  {
   "cell_type": "markdown",
   "metadata": {},
   "source": [
    "## Why Python"
   ]
  },
  {
   "cell_type": "markdown",
   "metadata": {},
   "source": [
    "In this course, we are going to use the Python programming language to build several intelligent applications that use machine learning. Python is a simple scripting language that makes it easy to interact with data. Futhermore, Python has a wide range of packages that make it easy to get started and build applications, from the simplest ones to the most complex. Python is widely used in industry, and is becoming the de facto language for data science in industry.\n",
    "\n",
    "We will also use the IPython Notebook in our videos. The IPython Notebook is a simple interactive environment for programming with Python, which makes it really easy to share your results. Think about it as a combination of a Python terminal and a wiki page. Thus, you can combine code, plots and text to explain what you did.\n",
    "\n",
    "A prerequisite of attending this course is that you have learnt at least one programming language in the past. It is not our objective to teach you python. At this class we expect our students to be able pick up a language as they go. If you have not experienced python before it may be worth your while spending some time undertanding the language. There are resources available for you to do this here (https://docs.python.org/2/tutorial/) that are based on the standard console. An introduction to the Jupyter Notebook (formely known as the IPython Notebook) is available here (http://ipython.org/ipython-doc/2/notebook/index.html)."
   ]
  },
  {
   "cell_type": "markdown",
   "metadata": {},
   "source": [
    "## Lab classes vs Programming assignments/Research Project"
   ]
  },
  {
   "cell_type": "markdown",
   "metadata": {},
   "source": [
    "In lab classes, the focus is on exploring each case study, without having to implement your own algorithms from scratch, and benefiting from the performance advantages that Scikit-learn provides. In programming assingments, you will be implementing many of these algorithms from scratch, having had the foundation of seeing them perform in practice on real applications.\n",
    "\n",
    "In other words, in lab classes, we focus on exploring the use cases we´ll tackle throughout the course. A huge goal is to familiarize ourselves with the core ML concepts that we will use during programming assignments and research project. In those, there will be much more implementation of ML algorithms, so the specific ML package becomes less important. However, in lab classes, we want to move quickly through all the use cases, and Scikit-learn will help us do just that."
   ]
  },
  {
   "cell_type": "markdown",
   "metadata": {},
   "source": [
    "## Learning outcomes"
   ]
  },
  {
   "cell_type": "markdown",
   "metadata": {},
   "source": [
    "This reading will walk you through the steps you will need to follow to install and get started with Python, IPython Notebook, Anaconda, and Scikit-learn.\n",
    "\n",
    "Installing Python, IPython Notebook, and Pandas\n",
    "\n",
    "Starting IPython Notebook\n",
    "\n",
    "Writing variables, functions and loops in Python\n",
    "\n",
    "Doing basic data manipulations in Python with Pandas' Frames"
   ]
  },
  {
   "cell_type": "markdown",
   "metadata": {},
   "source": [
    "## Getting started using these resources"
   ]
  },
  {
   "cell_type": "markdown",
   "metadata": {},
   "source": [
    "All resources needed during lab classes are already installed in the laboratory machines. However, if you want to use them in your own computer, following we present how to do it.\n",
    "\n",
    "Download and install Python, IPython Notebook through Anaconda: https://www.continuum.io/downloads\n",
    "\n",
    "Download and install Scikit-learn distribution: http://scikit-learn.org/stable/\n",
    "\n"
   ]
  },
  {
   "cell_type": "markdown",
   "metadata": {},
   "source": [
    "## Assignment question 1\n",
    "\n",
    "Who invented Python and why? What was the language designed to do? What is the origin of the name \"python\"? Is the language a compiled language? Is it an object oriented language?"
   ]
  },
  {
   "cell_type": "markdown",
   "metadata": {},
   "source": [
    "#### Question 1 answer\n",
    "\n",
    "Write your answer to the question in this box"
   ]
  },
  {
   "cell_type": "markdown",
   "metadata": {},
   "source": [
    "- Python was created by Guido van Rossum, born in Netherlands.\n",
    "\n",
    "- In 1999, Rossum told that Python was designed to be: easy an intuituve, open source, understainable (close to English) and easy going for short development time.\n",
    "\n",
    "- The ideia of the name came when Guido was reading the scripts from \"Monty Python's Flying Circus\". (A 70's BBC comedy).\n",
    "\n",
    "- Python is an interpreted and object-oriented language. it uses modules, exceptions, dynamic typing and classes."
   ]
  },
  {
   "cell_type": "markdown",
   "metadata": {},
   "source": [
    "## Assignment question 2\n",
    "\n",
    "Read on the internet about the following python libraries: Scikit-learn, numpy, matplotlib, scipy and pandas. What functionality does each provide python? What is the pylab library and how it is related to each other libraries?"
   ]
  },
  {
   "cell_type": "markdown",
   "metadata": {},
   "source": [
    "#### Question 2 answer\n",
    "\n",
    "Write your answer to the question in this box"
   ]
  },
  {
   "cell_type": "markdown",
   "metadata": {},
   "source": [
    "- Scikit-learn provides a ML library, featuring classifications, regressions and clustering algorithms. And this also includes support for vector machines, random forests.\n",
    "\n",
    "- NumPy is also a ML library. It features support for large and multi-dimensional arrays and matrices and some mathematical functions.\n",
    "\n",
    "- Matplotlib is a extention of NumPy and it allows to plots mathematical applications. \n",
    "\n",
    "- Scipy is a library for Python featuring modules for optimization, linear algebra, integration, interpolation, special funtions and image processing.\n",
    "\n",
    "- Panda is a software library, providing data analysis, ofering data structures and operation to manipulate numerical tables and time series.\n",
    "\n",
    "- Pylab is a plot library to generate plots, histograms, power spectra, bar charts errorcharts etc. The relation with Pylab and the other librarys is that Pylab plots the analysis made by those librarys, such as Pandas, Scipy."
   ]
  },
  {
   "cell_type": "markdown",
   "metadata": {},
   "source": [
    "## Assignment question 3\n",
    "\n",
    "What is Jupyter Notebook and why was it inveted? Give some examples of functionality it gives over standard python. What is the jupyter project? Name two languages involved in the Jupyter project other than python."
   ]
  },
  {
   "cell_type": "markdown",
   "metadata": {},
   "source": [
    "#### Question 3 answer\n",
    "\n",
    "Write your answer to the question in this box"
   ]
  },
  {
   "cell_type": "markdown",
   "metadata": {},
   "source": [
    "- Jupiter Notebook is a open-source web app that allows people to write an share documents. This documents can contains codes in diferent languages, charts and equations. Wich give us a complete document about a project.It is an interactive computing service.\n",
    "\n",
    "- Jupyter has a live code, wich permit people to write codes and generate an output in the same web interface.\n",
    "\n",
    "- For example, we can use php, javascript and C# in the JN."
   ]
  },
  {
   "cell_type": "markdown",
   "metadata": {},
   "source": [
    "## Download the data and sample code and familiarize yourself with the notebooks\n",
    "\n",
    "Before doing the assignments in this course, familiarize yourself with the two following notebooks:\n",
    "\n",
    "Download the notebook that covers getting started with Python: Getting started with iPython Notebook\n",
    "\n",
    "Download the notebook that covers getting started with Pandas: Getting Started with Pandas\n",
    "\n",
    "Download the simple people dataset: people-example.csv\n",
    "\n",
    "#### Save all these files in the same directory. If you are not sure where to sabe the files? See this guide:"
   ]
  },
  {
   "cell_type": "markdown",
   "metadata": {},
   "source": [
    "### Congratulations!!! Now you are ready to get started! From here, you will be ready to do all the assignments in the course, and build awesome intellingent applications that use machine learning!"
   ]
  }
 ],
 "metadata": {
  "kernelspec": {
   "display_name": "Python 3",
   "language": "python",
   "name": "python3"
  },
  "language_info": {
   "codemirror_mode": {
    "name": "ipython",
    "version": 3
   },
   "file_extension": ".py",
   "mimetype": "text/x-python",
   "name": "python",
   "nbconvert_exporter": "python",
   "pygments_lexer": "ipython3",
   "version": "3.6.4"
  }
 },
 "nbformat": 4,
 "nbformat_minor": 1
}
